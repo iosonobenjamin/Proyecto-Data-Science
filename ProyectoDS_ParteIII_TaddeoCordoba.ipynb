{
 "cells": [
  {
   "cell_type": "markdown",
   "metadata": {},
   "source": [
    "**Práctica integradora**"
   ]
  },
  {
   "cell_type": "code",
   "execution_count": 1,
   "metadata": {},
   "outputs": [],
   "source": [
    "# Importar las bibliotecas necesarias\n",
    "import pandas as pd\n",
    "import matplotlib.pyplot as plt\n",
    "from sklearn.model_selection import train_test_split\n",
    "from sklearn.feature_selection import SelectKBest\n",
    "from sklearn.ensemble import RandomForestClassifier\n",
    "from sklearn.metrics import classification_report\n",
    "from sklearn.preprocessing import LabelEncoder\n",
    "\n",
    "import warnings\n",
    "warnings.filterwarnings('ignore')"
   ]
  },
  {
   "cell_type": "markdown",
   "metadata": {},
   "source": [
    "**Análisis exploratorio de datos (EDA) antes de entrenar un modelo**"
   ]
  },
  {
   "cell_type": "code",
   "execution_count": 2,
   "metadata": {},
   "outputs": [
    {
     "data": {
      "text/html": [
       "<div>\n",
       "<style scoped>\n",
       "    .dataframe tbody tr th:only-of-type {\n",
       "        vertical-align: middle;\n",
       "    }\n",
       "\n",
       "    .dataframe tbody tr th {\n",
       "        vertical-align: top;\n",
       "    }\n",
       "\n",
       "    .dataframe thead th {\n",
       "        text-align: right;\n",
       "    }\n",
       "</style>\n",
       "<table border=\"1\" class=\"dataframe\">\n",
       "  <thead>\n",
       "    <tr style=\"text-align: right;\">\n",
       "      <th></th>\n",
       "      <th>Passenger ID</th>\n",
       "      <th>First Name</th>\n",
       "      <th>Last Name</th>\n",
       "      <th>Gender</th>\n",
       "      <th>Age</th>\n",
       "      <th>Nationality</th>\n",
       "      <th>Airport Name</th>\n",
       "      <th>Airport Country Code</th>\n",
       "      <th>Country Name</th>\n",
       "      <th>Airport Continent</th>\n",
       "      <th>Continents</th>\n",
       "      <th>Departure Date</th>\n",
       "      <th>Arrival Airport</th>\n",
       "      <th>Pilot Name</th>\n",
       "      <th>Flight Status</th>\n",
       "    </tr>\n",
       "  </thead>\n",
       "  <tbody>\n",
       "    <tr>\n",
       "      <th>0</th>\n",
       "      <td>10856</td>\n",
       "      <td>Edithe</td>\n",
       "      <td>Leggis</td>\n",
       "      <td>Female</td>\n",
       "      <td>62</td>\n",
       "      <td>Japan</td>\n",
       "      <td>Coldfoot Airport</td>\n",
       "      <td>US</td>\n",
       "      <td>United States</td>\n",
       "      <td>NAM</td>\n",
       "      <td>North America</td>\n",
       "      <td>6/28/2022</td>\n",
       "      <td>CXF</td>\n",
       "      <td>Edithe Leggis</td>\n",
       "      <td>On Time</td>\n",
       "    </tr>\n",
       "    <tr>\n",
       "      <th>1</th>\n",
       "      <td>43872</td>\n",
       "      <td>Elwood</td>\n",
       "      <td>Catt</td>\n",
       "      <td>Male</td>\n",
       "      <td>62</td>\n",
       "      <td>Nicaragua</td>\n",
       "      <td>Kugluktuk Airport</td>\n",
       "      <td>CA</td>\n",
       "      <td>Canada</td>\n",
       "      <td>NAM</td>\n",
       "      <td>North America</td>\n",
       "      <td>12/26/2022</td>\n",
       "      <td>YCO</td>\n",
       "      <td>Elwood Catt</td>\n",
       "      <td>On Time</td>\n",
       "    </tr>\n",
       "    <tr>\n",
       "      <th>2</th>\n",
       "      <td>42633</td>\n",
       "      <td>Darby</td>\n",
       "      <td>Felgate</td>\n",
       "      <td>Male</td>\n",
       "      <td>67</td>\n",
       "      <td>Russia</td>\n",
       "      <td>Grenoble-Isère Airport</td>\n",
       "      <td>FR</td>\n",
       "      <td>France</td>\n",
       "      <td>EU</td>\n",
       "      <td>Europe</td>\n",
       "      <td>1/18/2022</td>\n",
       "      <td>GNB</td>\n",
       "      <td>Darby Felgate</td>\n",
       "      <td>On Time</td>\n",
       "    </tr>\n",
       "    <tr>\n",
       "      <th>3</th>\n",
       "      <td>78493</td>\n",
       "      <td>Dominica</td>\n",
       "      <td>Pyle</td>\n",
       "      <td>Female</td>\n",
       "      <td>71</td>\n",
       "      <td>China</td>\n",
       "      <td>Ottawa / Gatineau Airport</td>\n",
       "      <td>CA</td>\n",
       "      <td>Canada</td>\n",
       "      <td>NAM</td>\n",
       "      <td>North America</td>\n",
       "      <td>9/16/2022</td>\n",
       "      <td>YND</td>\n",
       "      <td>Dominica Pyle</td>\n",
       "      <td>Delayed</td>\n",
       "    </tr>\n",
       "    <tr>\n",
       "      <th>4</th>\n",
       "      <td>82072</td>\n",
       "      <td>Bay</td>\n",
       "      <td>Pencost</td>\n",
       "      <td>Male</td>\n",
       "      <td>21</td>\n",
       "      <td>China</td>\n",
       "      <td>Gillespie Field</td>\n",
       "      <td>US</td>\n",
       "      <td>United States</td>\n",
       "      <td>NAM</td>\n",
       "      <td>North America</td>\n",
       "      <td>2/25/2022</td>\n",
       "      <td>SEE</td>\n",
       "      <td>Bay Pencost</td>\n",
       "      <td>On Time</td>\n",
       "    </tr>\n",
       "  </tbody>\n",
       "</table>\n",
       "</div>"
      ],
      "text/plain": [
       "   Passenger ID First Name Last Name  Gender  Age Nationality  \\\n",
       "0         10856     Edithe    Leggis  Female   62       Japan   \n",
       "1         43872     Elwood      Catt    Male   62   Nicaragua   \n",
       "2         42633      Darby   Felgate    Male   67      Russia   \n",
       "3         78493   Dominica      Pyle  Female   71       China   \n",
       "4         82072        Bay   Pencost    Male   21       China   \n",
       "\n",
       "                Airport Name Airport Country Code   Country Name  \\\n",
       "0           Coldfoot Airport                   US  United States   \n",
       "1          Kugluktuk Airport                   CA         Canada   \n",
       "2     Grenoble-Isère Airport                   FR         France   \n",
       "3  Ottawa / Gatineau Airport                   CA         Canada   \n",
       "4            Gillespie Field                   US  United States   \n",
       "\n",
       "  Airport Continent     Continents Departure Date Arrival Airport  \\\n",
       "0               NAM  North America      6/28/2022             CXF   \n",
       "1               NAM  North America     12/26/2022             YCO   \n",
       "2                EU         Europe      1/18/2022             GNB   \n",
       "3               NAM  North America      9/16/2022             YND   \n",
       "4               NAM  North America      2/25/2022             SEE   \n",
       "\n",
       "      Pilot Name Flight Status  \n",
       "0  Edithe Leggis       On Time  \n",
       "1    Elwood Catt       On Time  \n",
       "2  Darby Felgate       On Time  \n",
       "3  Dominica Pyle       Delayed  \n",
       "4    Bay Pencost       On Time  "
      ]
     },
     "execution_count": 2,
     "metadata": {},
     "output_type": "execute_result"
    }
   ],
   "source": [
    "# Cargar el conjunto de datos\n",
    "df = pd.read_csv('Airline Dataset.csv')\n",
    "\n",
    "# Visualizar las primeras filas del conjunto de datos\n",
    "df.head()"
   ]
  },
  {
   "cell_type": "code",
   "execution_count": 3,
   "metadata": {},
   "outputs": [
    {
     "name": "stdout",
     "output_type": "stream",
     "text": [
      "<class 'pandas.core.frame.DataFrame'>\n",
      "RangeIndex: 98619 entries, 0 to 98618\n",
      "Data columns (total 15 columns):\n",
      " #   Column                Non-Null Count  Dtype \n",
      "---  ------                --------------  ----- \n",
      " 0   Passenger ID          98619 non-null  int64 \n",
      " 1   First Name            98619 non-null  object\n",
      " 2   Last Name             98619 non-null  object\n",
      " 3   Gender                98619 non-null  object\n",
      " 4   Age                   98619 non-null  int64 \n",
      " 5   Nationality           98619 non-null  object\n",
      " 6   Airport Name          98619 non-null  object\n",
      " 7   Airport Country Code  98619 non-null  object\n",
      " 8   Country Name          98619 non-null  object\n",
      " 9   Airport Continent     98619 non-null  object\n",
      " 10  Continents            98619 non-null  object\n",
      " 11  Departure Date        98619 non-null  object\n",
      " 12  Arrival Airport       98619 non-null  object\n",
      " 13  Pilot Name            98619 non-null  object\n",
      " 14  Flight Status         98619 non-null  object\n",
      "dtypes: int64(2), object(13)\n",
      "memory usage: 11.3+ MB\n",
      "None\n",
      "       Passenger ID           Age\n",
      "count  98619.000000  98619.000000\n",
      "mean   55168.689522     45.504021\n",
      "std    25985.443696     25.929849\n",
      "min    10000.000000      1.000000\n",
      "25%    32608.000000     23.000000\n",
      "50%    55338.000000     46.000000\n",
      "75%    77695.000000     68.000000\n",
      "max    99999.000000     90.000000\n"
     ]
    },
    {
     "data": {
      "image/png": "[encoded data removed]",
      "text/plain": [
       "<Figure size 640x480 with 1 Axes>"
      ]
     },
     "metadata": {},
     "output_type": "display_data"
    },
    {
     "data": {
      "image/png": "[encoded data removed]",
      "text/plain": [
       "<Figure size 480x480 with 1 Axes>"
      ]
     },
     "metadata": {},
     "output_type": "display_data"
    }
   ],
   "source": [
    "# Ver la información general del conjunto de datos (tipos de datos, número de valores no nulos, etc.)\n",
    "print(df.info())\n",
    "\n",
    "# Ver estadísticas descriptivas del conjunto de datos\n",
    "print(df.describe())\n",
    "\n",
    "# Ver la distribución de la variable objetivo 'Flight Status'\n",
    "df['Flight Status'].value_counts().plot(kind='bar')\n",
    "plt.show()\n",
    "\n",
    "# Seleccionar solo las columnas numéricas\n",
    "numerics = ['int16', 'int32', 'int64', 'float16', 'float32', 'float64']\n",
    "df_numeric = df.select_dtypes(include=numerics)\n",
    "\n",
    "# Calcular la correlación entre las columnas numéricas\n",
    "plt.matshow(df_numeric.corr())\n",
    "plt.show()"
   ]
  },
  {
   "cell_type": "code",
   "execution_count": 4,
   "metadata": {},
   "outputs": [],
   "source": [
    "# Dividir el conjunto de datos en características (X) y etiqueta objetivo (y)\n",
    "X = df.drop('Flight Status', axis=1)\n",
    "y = df['Flight Status']"
   ]
  },
  {
   "cell_type": "code",
   "execution_count": 5,
   "metadata": {},
   "outputs": [],
   "source": [
    "# Dividir los datos en conjuntos de entrenamiento y prueba\n",
    "X_train, X_test, y_train, y_test = train_test_split(X, y, test_size=0.2, random_state=42)"
   ]
  },
  {
   "cell_type": "markdown",
   "metadata": {},
   "source": [
    "**Selección de características**"
   ]
  },
  {
   "cell_type": "code",
   "execution_count": 6,
   "metadata": {},
   "outputs": [],
   "source": [
    "# Crear un codificador\n",
    "le = LabelEncoder()\n",
    "\n",
    "# Ajustar el codificador en todo el conjunto de datos\n",
    "for col in df.columns:\n",
    "    if df[col].dtype == 'object':\n",
    "        df[col] = le.fit_transform(df[col])\n",
    "\n",
    "# Dividir el conjunto de datos en características (X) y etiqueta objetivo (y)\n",
    "X = df.drop('Flight Status', axis=1)\n",
    "y = df['Flight Status']\n",
    "\n",
    "# Dividir los datos en conjuntos de entrenamiento y prueba\n",
    "X_train, X_test, y_train, y_test = train_test_split(X, y, test_size=0.2, random_state=42)\n",
    "\n"
   ]
  },
  {
   "cell_type": "code",
   "execution_count": 7,
   "metadata": {},
   "outputs": [],
   "source": [
    "selector = SelectKBest(k=10)\n",
    "X_train_new = selector.fit_transform(X_train, y_train)\n",
    "X_test_new = selector.transform(X_test)"
   ]
  },
  {
   "cell_type": "markdown",
   "metadata": {},
   "source": [
    "**Entrenamiento del modelo**"
   ]
  },
  {
   "cell_type": "code",
   "execution_count": 8,
   "metadata": {},
   "outputs": [
    {
     "data": {
      "text/html": [
       "<style>#sk-container-id-1 {color: black;}#sk-container-id-1 pre{padding: 0;}#sk-container-id-1 div.sk-toggleable {background-color: white;}#sk-container-id-1 label.sk-toggleable__label {cursor: pointer;display: block;width: 100%;margin-bottom: 0;padding: 0.3em;box-sizing: border-box;text-align: center;}#sk-container-id-1 label.sk-toggleable__label-arrow:before {content: \"▸\";float: left;margin-right: 0.25em;color: #696969;}#sk-container-id-1 label.sk-toggleable__label-arrow:hover:before {color: black;}#sk-container-id-1 div.sk-estimator:hover label.sk-toggleable__label-arrow:before {color: black;}#sk-container-id-1 div.sk-toggleable__content {max-height: 0;max-width: 0;overflow: hidden;text-align: left;background-color: #f0f8ff;}#sk-container-id-1 div.sk-toggleable__content pre {margin: 0.2em;color: black;border-radius: 0.25em;background-color: #f0f8ff;}#sk-container-id-1 input.sk-toggleable__control:checked~div.sk-toggleable__content {max-height: 200px;max-width: 100%;overflow: auto;}#sk-container-id-1 input.sk-toggleable__control:checked~label.sk-toggleable__label-arrow:before {content: \"▾\";}#sk-container-id-1 div.sk-estimator input.sk-toggleable__control:checked~label.sk-toggleable__label {background-color: #d4ebff;}#sk-container-id-1 div.sk-label input.sk-toggleable__control:checked~label.sk-toggleable__label {background-color: #d4ebff;}#sk-container-id-1 input.sk-hidden--visually {border: 0;clip: rect(1px 1px 1px 1px);clip: rect(1px, 1px, 1px, 1px);height: 1px;margin: -1px;overflow: hidden;padding: 0;position: absolute;width: 1px;}#sk-container-id-1 div.sk-estimator {font-family: monospace;background-color: #f0f8ff;border: 1px dotted black;border-radius: 0.25em;box-sizing: border-box;margin-bottom: 0.5em;}#sk-container-id-1 div.sk-estimator:hover {background-color: #d4ebff;}#sk-container-id-1 div.sk-parallel-item::after {content: \"\";width: 100%;border-bottom: 1px solid gray;flex-grow: 1;}#sk-container-id-1 div.sk-label:hover label.sk-toggleable__label {background-color: #d4ebff;}#sk-container-id-1 div.sk-serial::before {content: \"\";position: absolute;border-left: 1px solid gray;box-sizing: border-box;top: 0;bottom: 0;left: 50%;z-index: 0;}#sk-container-id-1 div.sk-serial {display: flex;flex-direction: column;align-items: center;background-color: white;padding-right: 0.2em;padding-left: 0.2em;position: relative;}#sk-container-id-1 div.sk-item {position: relative;z-index: 1;}#sk-container-id-1 div.sk-parallel {display: flex;align-items: stretch;justify-content: center;background-color: white;position: relative;}#sk-container-id-1 div.sk-item::before, #sk-container-id-1 div.sk-parallel-item::before {content: \"\";position: absolute;border-left: 1px solid gray;box-sizing: border-box;top: 0;bottom: 0;left: 50%;z-index: -1;}#sk-container-id-1 div.sk-parallel-item {display: flex;flex-direction: column;z-index: 1;position: relative;background-color: white;}#sk-container-id-1 div.sk-parallel-item:first-child::after {align-self: flex-end;width: 50%;}#sk-container-id-1 div.sk-parallel-item:last-child::after {align-self: flex-start;width: 50%;}#sk-container-id-1 div.sk-parallel-item:only-child::after {width: 0;}#sk-container-id-1 div.sk-dashed-wrapped {border: 1px dashed gray;margin: 0 0.4em 0.5em 0.4em;box-sizing: border-box;padding-bottom: 0.4em;background-color: white;}#sk-container-id-1 div.sk-label label {font-family: monospace;font-weight: bold;display: inline-block;line-height: 1.2em;}#sk-container-id-1 div.sk-label-container {text-align: center;}#sk-container-id-1 div.sk-container {/* jupyter's `normalize.less` sets `[hidden] { display: none; }` but bootstrap.min.css set `[hidden] { display: none !important; }` so we also need the `!important` here to be able to override the default hidden behavior on the sphinx rendered scikit-learn.org. See: https://github.com/scikit-learn/scikit-learn/issues/21755 */display: inline-block !important;position: relative;}#sk-container-id-1 div.sk-text-repr-fallback {display: none;}</style><div id=\"sk-container-id-1\" class=\"sk-top-container\"><div class=\"sk-text-repr-fallback\"><pre>RandomForestClassifier()</pre><b>In a Jupyter environment, please rerun this cell to show the HTML representation or trust the notebook. <br />On GitHub, the HTML representation is unable to render, please try loading this page with nbviewer.org.</b></div><div class=\"sk-container\" hidden><div class=\"sk-item\"><div class=\"sk-estimator sk-toggleable\"><input class=\"sk-toggleable__control sk-hidden--visually\" id=\"sk-estimator-id-1\" type=\"checkbox\" checked><label for=\"sk-estimator-id-1\" class=\"sk-toggleable__label sk-toggleable__label-arrow\">RandomForestClassifier</label><div class=\"sk-toggleable__content\"><pre>RandomForestClassifier()</pre></div></div></div></div></div>"
      ],
      "text/plain": [
       "RandomForestClassifier()"
      ]
     },
     "execution_count": 8,
     "metadata": {},
     "output_type": "execute_result"
    }
   ],
   "source": [
    "model = RandomForestClassifier()\n",
    "model.fit(X_train_new, y_train)"
   ]
  },
  {
   "cell_type": "markdown",
   "metadata": {},
   "source": [
    "**Cálculo de métricas**"
   ]
  },
  {
   "cell_type": "code",
   "execution_count": 20,
   "metadata": {},
   "outputs": [
    {
     "name": "stdout",
     "output_type": "stream",
     "text": [
      "              precision    recall  f1-score   support\n",
      "\n",
      "           0       0.33      0.36      0.34      6446\n",
      "           1       0.33      0.32      0.33      6655\n",
      "           2       0.33      0.31      0.32      6623\n",
      "\n",
      "    accuracy                           0.33     19724\n",
      "   macro avg       0.33      0.33      0.33     19724\n",
      "weighted avg       0.33      0.33      0.33     19724\n",
      "\n"
     ]
    }
   ],
   "source": [
    "#Calculo de métrcias \"Precision\",\"Recall\" y \"F1-score\" \n",
    "y_pred = model.predict(X_test_new)\n",
    "print(classification_report(y_test, y_pred))"
   ]
  },
  {
   "cell_type": "markdown",
   "metadata": {},
   "source": [
    "Metricas de rendimiento para un modelo de clasificación. \n",
    "\n",
    "Análisis:\n",
    "\n",
    "Clase 0:\n",
    "\n",
    "Precisión: 0.33, lo que significa que cuando el modelo predice la clase 0, es correcto aproximadamente el 33% de las veces.\n",
    "Recall: 0.36, lo que significa que el modelo identifica correctamente el 36% de todas las instancias reales de la clase 0.\n",
    "F1-score: 0.34, es una medida que combina precisión y recall en un solo número. Un F1-score más alto es mejor, y un F1-score perfecto es 1.\n",
    "Soporte: 6446, lo que significa que hay 6446 instancias de la clase 0 en el conjunto de datos de prueba.\n",
    "Clase 1:\n",
    "\n",
    "Las métricas son similares a las de la clase 0, con una precisión, recall y F1-score de alrededor del 33%. El soporte es ligeramente mayor a 6655.\n",
    "Clase 2:\n",
    "\n",
    "Nuevamente, las métricas son similares a las otras clases, con una precisión, recall y F1-score de alrededor del 33%. El soporte es ligeramente menor a 6623.\n",
    "Promedios:\n",
    "\n",
    "La precisión, recall y F1-score promedio para todas las clases también son alrededor del 33%, tanto para el promedio macro (que trata todas las clases por igual) como para el promedio ponderado (que da más peso a las clases con más instancias).\n",
    "En general, parece que el modelo no está realizando muy bien ya que todas las métricas están alrededor del 33%, lo cual es cercano a una predicción aleatoria en un problema de clasificación de tres clases. Podrías considerar ajustar el modelo o usar un tipo diferente de modelo para mejorar estas métricas."
   ]
  },
  {
   "cell_type": "markdown",
   "metadata": {},
   "source": [
    "**Generar conclusiones**"
   ]
  },
  {
   "cell_type": "markdown",
   "metadata": {},
   "source": [
    "Para analizar el rendimiento del modelo, se puede utilizar varias métricas dependiendo del problema específico que estés tratando de resolver. Algunas métricas comunes incluyen la precisión, la exhaustividad, el puntaje F1 y el área bajo la curva ROC (AUC-ROC). Puedes calcular estas métricas utilizando las funciones correspondientes en sklearn.metrics después de hacer predicciones en tu conjunto de prueba.\n",
    "\n",
    "Ejemplo de cómo podrías entrenar un GradientBoostingClassifier"
   ]
  },
  {
   "cell_type": "code",
   "execution_count": 9,
   "metadata": {},
   "outputs": [
    {
     "name": "stdout",
     "output_type": "stream",
     "text": [
      "              precision    recall  f1-score   support\n",
      "\n",
      "           0       0.33      0.45      0.38      6446\n",
      "           1       0.34      0.23      0.28      6655\n",
      "           2       0.33      0.32      0.33      6623\n",
      "\n",
      "    accuracy                           0.33     19724\n",
      "   macro avg       0.33      0.33      0.33     19724\n",
      "weighted avg       0.33      0.33      0.33     19724\n",
      "\n"
     ]
    }
   ],
   "source": [
    "from sklearn.ensemble import GradientBoostingClassifier\n",
    "\n",
    "# Crear el modelo\n",
    "model = GradientBoostingClassifier()\n",
    "\n",
    "# Entrenar el modelo\n",
    "model.fit(X_train_new, y_train)\n",
    "\n",
    "# Hacer predicciones en el conjunto de prueba\n",
    "y_pred = model.predict(X_test_new)\n",
    "\n",
    "# Calcular métricas\n",
    "print(classification_report(y_test, y_pred))\n"
   ]
  },
  {
   "cell_type": "markdown",
   "metadata": {},
   "source": [
    "El informe de clasificación en el calculo de métricas, muestra que el modelo tiene una precisión, recall y f1-score de alrededor del 33% para todas las clases, lo cual sugiere que el modelo no está funcionando muy bien.\n",
    "\n",
    "Una alternativa podría ser probar un modelo de Support Vector Machine (SVM), que es un algoritmo de aprendizaje supervisado muy efectivo para problemas de clasificación y regresión. Aquí se genera un ejemplo de cómo podrías usar un SVC (Support Vector Classifier) con sklearn:"
   ]
  },
  {
   "cell_type": "markdown",
   "metadata": {},
   "source": [
    "**SVM Support Vector Machine | Modelo de aprendizaje automático de Vectores de Soporte**"
   ]
  },
  {
   "cell_type": "code",
   "execution_count": 13,
   "metadata": {},
   "outputs": [],
   "source": [
    "from sklearn.svm import SVC\n",
    "\n",
    "# Crear el modelo\n",
    "model = SVC()\n",
    "\n",
    "# Entrenar el modelo\n",
    "model.fit(X_train_new, y_train)\n",
    "\n",
    "# Hacer predicciones en el conjunto de prueba\n",
    "y_pred = model.predict(X_test_new)\n",
    "\n",
    "# Calcular métricas\n",
    "print(classification_report(y_test, y_pred))\n"
   ]
  },
  {
   "cell_type": "markdown",
   "metadata": {},
   "source": [
    "SVM no se ejecuta ya que consume demasiados recursos."
   ]
  },
  {
   "cell_type": "markdown",
   "metadata": {},
   "source": [
    "A tener en cuenta que los SVM pueden ser computacionalmente costosos para conjuntos de datos grandes y pueden requerir un ajuste cuidadoso de los parámetros. También se podría considerar probar otros algoritmos de clasificación, como K-Nearest Neighbors (KNN) o Naive Bayes, o usar técnicas de optimización de hiperparámetros para mejorar el rendimiento del modelo actual."
   ]
  },
  {
   "cell_type": "markdown",
   "metadata": {},
   "source": [
    "**K-Nearest Neighbors (KNN)** | k vecinos mas cercanos | Clasificador de aprendizaje supervisado no parametrico"
   ]
  },
  {
   "cell_type": "code",
   "execution_count": 10,
   "metadata": {},
   "outputs": [
    {
     "name": "stdout",
     "output_type": "stream",
     "text": [
      "              precision    recall  f1-score   support\n",
      "\n",
      "           0       0.32      0.48      0.39      6446\n",
      "           1       0.34      0.26      0.29      6655\n",
      "           2       0.34      0.26      0.29      6623\n",
      "\n",
      "    accuracy                           0.33     19724\n",
      "   macro avg       0.33      0.33      0.33     19724\n",
      "weighted avg       0.33      0.33      0.32     19724\n",
      "\n"
     ]
    }
   ],
   "source": [
    "from sklearn.neighbors import KNeighborsClassifier\n",
    "\n",
    "# Crear el modelo\n",
    "model = KNeighborsClassifier(n_neighbors=3)\n",
    "\n",
    "# Entrenar el modelo\n",
    "model.fit(X_train_new, y_train)\n",
    "\n",
    "# Hacer predicciones en el conjunto de prueba\n",
    "y_pred = model.predict(X_test_new)\n",
    "\n",
    "# Calcular métricas\n",
    "print(classification_report(y_test, y_pred))\n"
   ]
  },
  {
   "cell_type": "markdown",
   "metadata": {},
   "source": [
    "Analisis del Alogartimo KNN:\n",
    "\n",
    "Clase 0:\n",
    "\n",
    "Precisión: 0.32, lo que significa que cuando el modelo predice la clase 0, es correcto aproximadamente el 32% de las veces.\n",
    "Recall: 0.48, lo que significa que el modelo identifica correctamente el 48% de todas las instancias reales de la clase 0.\n",
    "F1-score: 0.39, es una medida que combina precisión y recall en un solo número. Un F1-score más alto es mejor, y un F1-score perfecto es 1.\n",
    "Soporte: 6446, lo que significa que hay 6446 instancias de la clase 0 en el conjunto de datos de prueba.\n",
    "\n",
    "Clase 1:\n",
    "Las métricas son similares a las de la clase 0, con una precisión y F1-score de alrededor del 34%. Sin embargo, el recall es más bajo a 0.26. El soporte es ligeramente mayor a 6655.\n",
    "\n",
    "Clase 2:\n",
    "Nuevamente, las métricas son similares a las otras clases, con una precisión y F1-score de alrededor del 34%. Al igual que con la clase 1, el recall es más bajo a 0.26. El soporte es ligeramente menor a 6623.\n",
    "\n",
    "Promedios:\n",
    "La precisión y F1-score promedio para todas las clases son alrededor del 33%, tanto para el promedio macro (que trata todas las clases por igual) como para el promedio ponderado (que da más peso a las clases con más instancias). Sin embargo, la precisión ponderada es ligeramente menor a 0.32."
   ]
  },
  {
   "cell_type": "markdown",
   "metadata": {},
   "source": [
    "**Naive Bayes | Clasificador de aprendizaje superviosaro basado en el Teorema de Bayes, busca modelar la distribucion de las entradas de una clase o categoría dada**"
   ]
  },
  {
   "cell_type": "code",
   "execution_count": 11,
   "metadata": {},
   "outputs": [
    {
     "name": "stdout",
     "output_type": "stream",
     "text": [
      "              precision    recall  f1-score   support\n",
      "\n",
      "           0       0.33      0.49      0.39      6446\n",
      "           1       0.31      0.04      0.07      6655\n",
      "           2       0.33      0.47      0.39      6623\n",
      "\n",
      "    accuracy                           0.33     19724\n",
      "   macro avg       0.32      0.33      0.28     19724\n",
      "weighted avg       0.32      0.33      0.28     19724\n",
      "\n"
     ]
    }
   ],
   "source": [
    "from sklearn.naive_bayes import GaussianNB\n",
    "\n",
    "# Crear el modelo\n",
    "model = GaussianNB()\n",
    "\n",
    "# Entrenar el modelo\n",
    "model.fit(X_train_new, y_train)\n",
    "\n",
    "# Hacer predicciones en el conjunto de prueba\n",
    "y_pred = model.predict(X_test_new)\n",
    "\n",
    "# Calcular métricas\n",
    "print(classification_report(y_test, y_pred))\n"
   ]
  },
  {
   "cell_type": "markdown",
   "metadata": {},
   "source": [
    "El algoritmo Naive Bayes hace un par de suposiciones clave, lo que le da el título de “ingenuo” o “naive”. Asume que los predictores en un modelo Naive Bayes son condicionalmente independientes, es decir, no están relacionados con ninguna otra característica en el modelo. También asume que todas las características contribuyen igualmente al resultado.\n",
    "\n",
    "A pesar de su diseño simple y sus suposiciones aparentemente simplificadas, los clasificadores Naive Bayes han funcionado bastante bien en muchas situaciones del mundo real complejas. Son altamente escalables, requiriendo un número de parámetros lineal en el número de variables (características/predictores) en un problema de aprendizaje."
   ]
  },
  {
   "cell_type": "markdown",
   "metadata": {},
   "source": [
    "**Optimización de hiperparámetros (usando GridSearchCV con RandomForestClassifier como ejemplo)**"
   ]
  },
  {
   "cell_type": "code",
   "execution_count": 12,
   "metadata": {},
   "outputs": [
    {
     "name": "stdout",
     "output_type": "stream",
     "text": [
      "{'max_depth': 20, 'min_samples_split': 2, 'n_estimators': 50}\n",
      "              precision    recall  f1-score   support\n",
      "\n",
      "           0       0.32      0.35      0.34      6446\n",
      "           1       0.33      0.31      0.32      6655\n",
      "           2       0.33      0.31      0.32      6623\n",
      "\n",
      "    accuracy                           0.33     19724\n",
      "   macro avg       0.33      0.33      0.33     19724\n",
      "weighted avg       0.33      0.33      0.33     19724\n",
      "\n"
     ]
    }
   ],
   "source": [
    "from sklearn.model_selection import GridSearchCV\n",
    "\n",
    "# Definir los parámetros que se probaran\n",
    "param_grid = {\n",
    "    'n_estimators': [50, 100, 200],\n",
    "    'max_depth': [None, 10, 20, 30],\n",
    "    'min_samples_split': [2, 5, 10]\n",
    "}\n",
    "\n",
    "# Crear el modelo\n",
    "model = RandomForestClassifier()\n",
    "\n",
    "# Crear el objeto GridSearchCV\n",
    "grid_search = GridSearchCV(estimator=model, param_grid=param_grid, cv=3)\n",
    "\n",
    "# Entrenar el modelo\n",
    "grid_search.fit(X_train_new, y_train)\n",
    "\n",
    "# Ver los mejores parámetros encontrados por GridSearchCV\n",
    "print(grid_search.best_params_)\n",
    "\n",
    "# Hacer predicciones en el conjunto de prueba con el mejor modelo encontrado\n",
    "y_pred = grid_search.predict(X_test_new)\n",
    "\n",
    "# Calcular métricas\n",
    "print(classification_report(y_test, y_pred))\n"
   ]
  },
  {
   "cell_type": "markdown",
   "metadata": {},
   "source": [
    "Análisis:\n",
    "\n",
    "- **Parámetros del modelo**: Los parámetros utilizados para el modelo son `max_depth` de 20, `min_samples_split` de 2 y `n_estimators` de 50. Estos parámetros son típicos de un modelo de bosque aleatorio.\n",
    "\n",
    "- **Clase 0**: \n",
    "  - **Precisión**: 0.32, lo que significa que cuando el modelo predice la clase 0, es correcto aproximadamente el 32% de las veces.\n",
    "  - **Recall**: 0.35, lo que significa que el modelo identifica correctamente el 35% de todas las instancias reales de la clase 0.\n",
    "  - **F1-score**: 0.34, es una medida que combina precisión y recall en un solo número. Un F1-score más alto es mejor, y un F1-score perfecto es 1.\n",
    "  - **Soporte**: 6446, lo que significa que hay 6446 instancias de la clase 0 en el conjunto de datos de prueba.\n",
    "\n",
    "- **Clase 1**:\n",
    "  - Las métricas son similares a las de la clase 0, con una precisión y F1-score de alrededor del 33%. Sin embargo, el recall es ligeramente menor a 0.31. El soporte es ligeramente mayor a 6655.\n",
    "\n",
    "- **Clase 2**:\n",
    "  - Nuevamente, las métricas son similares a las otras clases, con una precisión y F1-score de alrededor del 33%. Al igual que con la clase 1, el recall es ligeramente menor a 0.31. El soporte es ligeramente menor a 6623.\n",
    "\n",
    "- **Promedios**:\n",
    "   - La precisión, recall y F1-score promedio para todas las clases son alrededor del 33%, tanto para el promedio macro (que trata todas las clases por igual) como para el promedio ponderado (que da más peso a las clases con más instancias).\n",
    "\n",
    "En general, parece que el modelo no está realizando muy bien ya que todas las métricas están alrededor del 33%, lo cual es cercano a una predicción aleatoria en un problema de clasificación de tres clases. Podrías considerar ajustar los parámetros del modelo o usar un tipo diferente de modelo para mejorar estas métricas."
   ]
  },
  {
   "cell_type": "markdown",
   "metadata": {},
   "source": [
    "El modelo de clasificación que se ha entrenado no está funcionando muy bien. Todas las métricas de rendimiento, incluyendo precisión, recall y F1-score, están alrededor del 33% para todas las clases. Esto es cercano a lo que esperaríamos de un modelo que hace predicciones aleatorias en un problema de clasificación de tres clases.\n",
    "\n",
    "Los parámetros utilizados para el modelo son `max_depth` de 20, `min_samples_split` de 2 y `n_estimators` de 50. Se podría considerar ajustar estos parámetros o probar ualgún tipo diferente de modelo para mejorar el rendimiento.\n",
    "\n",
    "Además, el recall para las clases 1 y 2 es particularmente bajo (0.31), lo que indica que el modelo tiene dificultades para identificar correctamente estas clases. Esto podría ser un área a la que prestar atención al ajustar el modelo.\n",
    "\n",
    "En resumen, hay margen para mejorar el rendimiento del modelo ajustando los parámetros o probando diferentes tipos de modelos."
   ]
  }
 ],
 "metadata": {
  "kernelspec": {
   "display_name": "Python 3",
   "language": "python",
   "name": "python3"
  },
  "language_info": {
   "codemirror_mode": {
    "name": "ipython",
    "version": 3
   },
   "file_extension": ".py",
   "mimetype": "text/x-python",
   "name": "python",
   "nbconvert_exporter": "python",
   "pygments_lexer": "ipython3",
   "version": "3.11.4"
  }
 },
 "nbformat": 4,
 "nbformat_minor": 2
}
