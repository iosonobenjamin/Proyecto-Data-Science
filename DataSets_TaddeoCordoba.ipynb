{
 "cells": [
  {
   "cell_type": "markdown",
   "id": "c8774c25-fdb8-441d-9cee-29f4c7371be9",
   "metadata": {},
   "source": [
    "#Seleccion de dataset para proyecto final_ autor: Luciano Benjamin Taddeo Córdoba - Comision 46270 - Tutor Rodrigo Alegre"
   ]
  },
  {
   "cell_type": "markdown",
   "id": "69fb4e03-20d2-4ec9-b6dd-43ca7dcef7cb",
   "metadata": {},
   "source": [
    "Importaciones a utilizar"
   ]
  },
  {
   "cell_type": "code",
   "execution_count": 1,
   "id": "cb8879e6-e94b-4544-9cdf-6ce3cedad3db",
   "metadata": {},
   "outputs": [],
   "source": [
    "#Dataset 1|2|3\n",
    "#Importar Pandas para procesar los datos de un archivo CSV\n",
    "import pandas as pd\n",
    "import numpy as np"
   ]
  },
  {
   "cell_type": "markdown",
   "id": "a7b5012b-679d-40b7-a253-8de7e131af47",
   "metadata": {},
   "source": [
    "#Dataset 1: Visualizacion Global de Migrantes Perdidos"
   ]
  },
  {
   "cell_type": "code",
   "execution_count": 2,
   "id": "2604ab21-fdf3-4089-b28f-f3eeebf04551",
   "metadata": {
    "scrolled": true
   },
   "outputs": [],
   "source": [
    "#Carga el archivo con Pandas\n",
    "df = pd.read_csv(\"Global Missing Migrants Dataset.csv\")"
   ]
  },
  {
   "cell_type": "code",
   "execution_count": 3,
   "id": "5a65c647-0d6c-41da-ae28-134f773c5ce9",
   "metadata": {},
   "outputs": [
    {
     "data": {
      "text/plain": [
       "(13020, 19)"
      ]
     },
     "execution_count": 3,
     "metadata": {},
     "output_type": "execute_result"
    }
   ],
   "source": [
    "#Obtener la propiedades del dataframe (filas, columnas)\n",
    "df.shape"
   ]
  },
  {
   "cell_type": "code",
   "execution_count": 4,
   "id": "7a4b4514",
   "metadata": {},
   "outputs": [
    {
     "name": "stdout",
     "output_type": "stream",
     "text": [
      "<class 'pandas.core.frame.DataFrame'>\n",
      "RangeIndex: 13020 entries, 0 to 13019\n",
      "Data columns (total 19 columns):\n",
      " #   Column                               Non-Null Count  Dtype  \n",
      "---  ------                               --------------  -----  \n",
      " 0   Incident Type                        13020 non-null  object \n",
      " 1   Incident year                        13020 non-null  int64  \n",
      " 2   Reported Month                       13020 non-null  object \n",
      " 3   Region of Origin                     12998 non-null  object \n",
      " 4   Region of Incident                   13020 non-null  object \n",
      " 5   Country of Origin                    13012 non-null  object \n",
      " 6   Number of Dead                       12470 non-null  float64\n",
      " 7   Minimum Estimated Number of Missing  13020 non-null  int64  \n",
      " 8   Total Number of Dead and Missing     13020 non-null  int64  \n",
      " 9   Number of Survivors                  13020 non-null  int64  \n",
      " 10  Number of Females                    13020 non-null  int64  \n",
      " 11  Number of Males                      13020 non-null  int64  \n",
      " 12  Number of Children                   13020 non-null  int64  \n",
      " 13  Cause of Death                       13020 non-null  object \n",
      " 14  Migration route                      9999 non-null   object \n",
      " 15  Location of death                    13020 non-null  object \n",
      " 16  Information Source                   13012 non-null  object \n",
      " 17  Coordinates                          12984 non-null  object \n",
      " 18  UNSD Geographical Grouping           13019 non-null  object \n",
      "dtypes: float64(1), int64(7), object(11)\n",
      "memory usage: 1.9+ MB\n"
     ]
    }
   ],
   "source": [
    "#Obtener información sobre el DataFrame\n",
    "df.info()"
   ]
  },
  {
   "cell_type": "code",
   "execution_count": 5,
   "id": "12996b32-63cf-4844-bfc0-f3f3531454b7",
   "metadata": {},
   "outputs": [
    {
     "name": "stdout",
     "output_type": "stream",
     "text": [
      "Incident Type                           object\n",
      "Incident year                            int64\n",
      "Reported Month                          object\n",
      "Region of Origin                        object\n",
      "Region of Incident                      object\n",
      "Country of Origin                       object\n",
      "Number of Dead                         float64\n",
      "Minimum Estimated Number of Missing      int64\n",
      "Total Number of Dead and Missing         int64\n",
      "Number of Survivors                      int64\n",
      "Number of Females                        int64\n",
      "Number of Males                          int64\n",
      "Number of Children                       int64\n",
      "Cause of Death                          object\n",
      "Migration route                         object\n",
      "Location of death                       object\n",
      "Information Source                      object\n",
      "Coordinates                             object\n",
      "UNSD Geographical Grouping              object\n",
      "dtype: object\n"
     ]
    }
   ],
   "source": [
    "#Tipos de datos del dataset\n",
    "tiposdedatos = df.dtypes\n",
    "print(tiposdedatos)"
   ]
  },
  {
   "cell_type": "code",
   "execution_count": 6,
   "id": "08b64296-188a-4b5e-b468-33f8c37e7f62",
   "metadata": {},
   "outputs": [
    {
     "data": {
      "text/plain": [
       "Incident Type                             4\n",
       "Incident year                            10\n",
       "Reported Month                           12\n",
       "Region of Origin                         33\n",
       "Region of Incident                       16\n",
       "Country of Origin                       335\n",
       "Number of Dead                           86\n",
       "Minimum Estimated Number of Missing     120\n",
       "Total Number of Dead and Missing        137\n",
       "Number of Survivors                     228\n",
       "Number of Females                        48\n",
       "Number of Males                          59\n",
       "Number of Children                       20\n",
       "Cause of Death                           15\n",
       "Migration route                          25\n",
       "Location of death                      7460\n",
       "Information Source                     3803\n",
       "Coordinates                            9582\n",
       "UNSD Geographical Grouping               19\n",
       "dtype: int64"
      ]
     },
     "execution_count": 6,
     "metadata": {},
     "output_type": "execute_result"
    }
   ],
   "source": [
    "# Contar el número de valores únicos en cada columna de un DataFrame\n",
    "unique_values = df.nunique()\n",
    "unique_values"
   ]
  },
  {
   "cell_type": "code",
   "execution_count": 7,
   "id": "1b73a1f6-876c-4ac0-a9f0-e253d8dbebf6",
   "metadata": {},
   "outputs": [
    {
     "name": "stdout",
     "output_type": "stream",
     "text": [
      "Incident Type                                                                   Incident\n",
      "Incident year                                                                       2014\n",
      "Reported Month                                                                   January\n",
      "Region of Origin                                                         Central America\n",
      "Region of Incident                                                         North America\n",
      "Country of Origin                                                              Guatemala\n",
      "Number of Dead                                                                       1.0\n",
      "Minimum Estimated Number of Missing                                                    0\n",
      "Total Number of Dead and Missing                                                       1\n",
      "Number of Survivors                                                                    0\n",
      "Number of Females                                                                      0\n",
      "Number of Males                                                                        1\n",
      "Number of Children                                                                     0\n",
      "Cause of Death                                                          Mixed or unknown\n",
      "Migration route                                                US-Mexico border crossing\n",
      "Location of death                      Pima Country Office of the Medical Examiner ju...\n",
      "Information Source                     Pima County Office of the Medical Examiner (PC...\n",
      "Coordinates                                                       31.650259, -110.366453\n",
      "UNSD Geographical Grouping                                              Northern America\n",
      "Name: 0, dtype: object\n"
     ]
    }
   ],
   "source": [
    "# Acceder a la primera fila utilizando iloc\n",
    "primera_fila = df.iloc[0]\n",
    "\n",
    "# Imprimir la primera fila\n",
    "print(primera_fila)"
   ]
  },
  {
   "cell_type": "code",
   "execution_count": 8,
   "id": "bc2f92d4",
   "metadata": {},
   "outputs": [
    {
     "name": "stdout",
     "output_type": "stream",
     "text": [
      "Incident Type\n",
      "Incident                   12670\n",
      "Split Incident               261\n",
      "Cumulative Incident           84\n",
      "Incident,Split Incident        5\n",
      "Name: count, dtype: int64\n"
     ]
    }
   ],
   "source": [
    "# Calcular la cantidad de registros por cada tipo de 'Flight Status'\n",
    "TipodeIncidentes= df['Incident Type'].value_counts()\n",
    "\n",
    "print(TipodeIncidentes)"
   ]
  },
  {
   "cell_type": "code",
   "execution_count": 9,
   "id": "5dcd3348",
   "metadata": {},
   "outputs": [
    {
     "name": "stdout",
     "output_type": "stream",
     "text": [
      "Promedio de Muertes: 2.62373696872494\n"
     ]
    }
   ],
   "source": [
    "# Calcular el promedio de la columna 'Numero de Muertes'\n",
    "PromMuertes = df['Number of Dead'].mean()\n",
    "\n",
    "print(\"Promedio de Muertes:\", PromMuertes)"
   ]
  },
  {
   "cell_type": "code",
   "execution_count": 10,
   "id": "af9ae0f6",
   "metadata": {},
   "outputs": [
    {
     "name": "stdout",
     "output_type": "stream",
     "text": [
      "¿Hay al menos un valor igual a 0 en todo el DataFrame? True\n",
      "Cantidad de valores iguales a 0 en todo el DataFrame: 49877\n"
     ]
    }
   ],
   "source": [
    "# Buscar valores iguales a 0 en todo el Dataframe\n",
    "valores_igual_a_0 = df == 0\n",
    "# Verificar si hay al menos un valor igual a 0 en todo el DataFrame\n",
    "hay_0 = valores_igual_a_0.any().any()\n",
    "\n",
    "# Contar cuántos valores iguales a 0 hay en todo el DataFrame\n",
    "cantidad_de_0 = valores_igual_a_0.sum().sum()\n",
    "\n",
    "\n",
    "print(\"¿Hay al menos un valor igual a 0 en todo el DataFrame?\", hay_0)\n",
    "print(\"Cantidad de valores iguales a 0 en todo el DataFrame:\", cantidad_de_0)\n"
   ]
  },
  {
   "cell_type": "markdown",
   "id": "5341f92d",
   "metadata": {},
   "source": [
    "De acuerdo con este Dataset, podremos realizar los siguientes analisis: \n",
    "Resumen estadístico de las columnas numéricas (por ejemplo, estadísticas descriptivas de las columnas de número de muertos, desaparecidos, sobrevivientes, etc.).\n",
    "\n",
    "* Análisis de tendencias a lo largo de los años en relación con el tipo de incidente, la causa de la muerte, etc.\n",
    "\n",
    "* Distribución geográfica de los incidentes utilizando las coordenadas geográficas.\n",
    "\n",
    "* Identificación de las fuentes de información más frecuentes.\n",
    "\n",
    "* Análisis de género y edad en relación con los incidentes.\n",
    "\n",
    "* Comprobación de la relación entre la región de origen y la región del incidente."
   ]
  },
  {
   "cell_type": "markdown",
   "id": "3137dd79-793e-40e1-86c1-fc55a5bb19d7",
   "metadata": {},
   "source": [
    "#Dataset 2: Detección de Fraude en Tarjetas de Crédito"
   ]
  },
  {
   "cell_type": "code",
   "execution_count": 11,
   "id": "2b15edfd-47f5-4241-996c-234a151c1ff7",
   "metadata": {},
   "outputs": [],
   "source": [
    "#Carga el archivo con Pandas\n",
    "df2 = pd.read_csv(\"creditcard.csv\")"
   ]
  },
  {
   "cell_type": "code",
   "execution_count": 12,
   "id": "461be46f-6f52-40cc-872c-81370aa81c2d",
   "metadata": {},
   "outputs": [
    {
     "data": {
      "text/plain": [
       "(284807, 31)"
      ]
     },
     "execution_count": 12,
     "metadata": {},
     "output_type": "execute_result"
    }
   ],
   "source": [
    "#Obtener la propiedades del dataframe (filas, columnas)\n",
    "df2.shape"
   ]
  },
  {
   "cell_type": "code",
   "execution_count": 13,
   "id": "4520de61",
   "metadata": {},
   "outputs": [
    {
     "name": "stdout",
     "output_type": "stream",
     "text": [
      "<class 'pandas.core.frame.DataFrame'>\n",
      "RangeIndex: 284807 entries, 0 to 284806\n",
      "Data columns (total 31 columns):\n",
      " #   Column  Non-Null Count   Dtype  \n",
      "---  ------  --------------   -----  \n",
      " 0   Time    284807 non-null  float64\n",
      " 1   V1      284807 non-null  float64\n",
      " 2   V2      284807 non-null  float64\n",
      " 3   V3      284807 non-null  float64\n",
      " 4   V4      284807 non-null  float64\n",
      " 5   V5      284807 non-null  float64\n",
      " 6   V6      284807 non-null  float64\n",
      " 7   V7      284807 non-null  float64\n",
      " 8   V8      284807 non-null  float64\n",
      " 9   V9      284807 non-null  float64\n",
      " 10  V10     284807 non-null  float64\n",
      " 11  V11     284807 non-null  float64\n",
      " 12  V12     284807 non-null  float64\n",
      " 13  V13     284807 non-null  float64\n",
      " 14  V14     284807 non-null  float64\n",
      " 15  V15     284807 non-null  float64\n",
      " 16  V16     284807 non-null  float64\n",
      " 17  V17     284807 non-null  float64\n",
      " 18  V18     284807 non-null  float64\n",
      " 19  V19     284807 non-null  float64\n",
      " 20  V20     284807 non-null  float64\n",
      " 21  V21     284807 non-null  float64\n",
      " 22  V22     284807 non-null  float64\n",
      " 23  V23     284807 non-null  float64\n",
      " 24  V24     284807 non-null  float64\n",
      " 25  V25     284807 non-null  float64\n",
      " 26  V26     284807 non-null  float64\n",
      " 27  V27     284807 non-null  float64\n",
      " 28  V28     284807 non-null  float64\n",
      " 29  Amount  284807 non-null  float64\n",
      " 30  Class   284807 non-null  int64  \n",
      "dtypes: float64(30), int64(1)\n",
      "memory usage: 67.4 MB\n"
     ]
    }
   ],
   "source": [
    "#Obtener información sobre el DataFrame\n",
    "df2.info()"
   ]
  },
  {
   "cell_type": "code",
   "execution_count": 14,
   "id": "3a742ce7",
   "metadata": {},
   "outputs": [
    {
     "name": "stdout",
     "output_type": "stream",
     "text": [
      "Index(['Time', 'V1', 'V2', 'V3', 'V4', 'V5', 'V6', 'V7', 'V8', 'V9', 'V10',\n",
      "       'V11', 'V12', 'V13', 'V14', 'V15', 'V16', 'V17', 'V18', 'V19', 'V20',\n",
      "       'V21', 'V22', 'V23', 'V24', 'V25', 'V26', 'V27', 'V28', 'Amount',\n",
      "       'Class'],\n",
      "      dtype='object')\n"
     ]
    }
   ],
   "source": [
    "# Verifica el nombre de la columna y asegúrate de que sea correcto\n",
    "print(df2.columns)"
   ]
  },
  {
   "cell_type": "code",
   "execution_count": 15,
   "id": "7f2ef389-bb92-4af4-acf7-d7ddbc669bc8",
   "metadata": {},
   "outputs": [
    {
     "name": "stdout",
     "output_type": "stream",
     "text": [
      "Time      float64\n",
      "V1        float64\n",
      "V2        float64\n",
      "V3        float64\n",
      "V4        float64\n",
      "V5        float64\n",
      "V6        float64\n",
      "V7        float64\n",
      "V8        float64\n",
      "V9        float64\n",
      "V10       float64\n",
      "V11       float64\n",
      "V12       float64\n",
      "V13       float64\n",
      "V14       float64\n",
      "V15       float64\n",
      "V16       float64\n",
      "V17       float64\n",
      "V18       float64\n",
      "V19       float64\n",
      "V20       float64\n",
      "V21       float64\n",
      "V22       float64\n",
      "V23       float64\n",
      "V24       float64\n",
      "V25       float64\n",
      "V26       float64\n",
      "V27       float64\n",
      "V28       float64\n",
      "Amount    float64\n",
      "Class       int64\n",
      "dtype: object\n"
     ]
    }
   ],
   "source": [
    "#Tipos de datos del dataset\n",
    "tiposdedatos = df2.dtypes\n",
    "print (tiposdedatos)"
   ]
  },
  {
   "cell_type": "code",
   "execution_count": 16,
   "id": "f983185f-eb4c-4448-89ef-5a2c76656322",
   "metadata": {},
   "outputs": [
    {
     "name": "stdout",
     "output_type": "stream",
     "text": [
      "Time        0.000000\n",
      "V1         -1.359807\n",
      "V2         -0.072781\n",
      "V3          2.536347\n",
      "V4          1.378155\n",
      "V5         -0.338321\n",
      "V6          0.462388\n",
      "V7          0.239599\n",
      "V8          0.098698\n",
      "V9          0.363787\n",
      "V10         0.090794\n",
      "V11        -0.551600\n",
      "V12        -0.617801\n",
      "V13        -0.991390\n",
      "V14        -0.311169\n",
      "V15         1.468177\n",
      "V16        -0.470401\n",
      "V17         0.207971\n",
      "V18         0.025791\n",
      "V19         0.403993\n",
      "V20         0.251412\n",
      "V21        -0.018307\n",
      "V22         0.277838\n",
      "V23        -0.110474\n",
      "V24         0.066928\n",
      "V25         0.128539\n",
      "V26        -0.189115\n",
      "V27         0.133558\n",
      "V28        -0.021053\n",
      "Amount    149.620000\n",
      "Class       0.000000\n",
      "Name: 0, dtype: float64\n"
     ]
    }
   ],
   "source": [
    "# Acceder a la primera fila utilizando iloc\n",
    "primera_fila = df2.iloc[0]\n",
    "\n",
    "# Imprimir la primera fila\n",
    "print(primera_fila)"
   ]
  },
  {
   "cell_type": "code",
   "execution_count": 17,
   "id": "ea5f88fe-ec5e-4a33-a43c-57d9573d5a41",
   "metadata": {},
   "outputs": [
    {
     "data": {
      "text/plain": [
       "Time      124592\n",
       "V1        275663\n",
       "V2        275663\n",
       "V3        275663\n",
       "V4        275663\n",
       "V5        275663\n",
       "V6        275663\n",
       "V7        275663\n",
       "V8        275663\n",
       "V9        275663\n",
       "V10       275663\n",
       "V11       275663\n",
       "V12       275663\n",
       "V13       275663\n",
       "V14       275663\n",
       "V15       275663\n",
       "V16       275663\n",
       "V17       275663\n",
       "V18       275663\n",
       "V19       275663\n",
       "V20       275663\n",
       "V21       275663\n",
       "V22       275663\n",
       "V23       275663\n",
       "V24       275663\n",
       "V25       275663\n",
       "V26       275663\n",
       "V27       275663\n",
       "V28       275663\n",
       "Amount     32767\n",
       "Class          2\n",
       "dtype: int64"
      ]
     },
     "execution_count": 17,
     "metadata": {},
     "output_type": "execute_result"
    }
   ],
   "source": [
    "# Contar el número de valores únicos en cada columna de un DataFrame\n",
    "unique_values = df2.nunique()\n",
    "unique_values"
   ]
  },
  {
   "cell_type": "code",
   "execution_count": 18,
   "id": "d2a15f70",
   "metadata": {},
   "outputs": [
    {
     "name": "stdout",
     "output_type": "stream",
     "text": [
      "Time\n",
      "163152.0    36\n",
      "64947.0     26\n",
      "68780.0     25\n",
      "3767.0      21\n",
      "3770.0      20\n",
      "            ..\n",
      "127750.0     1\n",
      "62260.0      1\n",
      "62259.0      1\n",
      "127753.0     1\n",
      "172792.0     1\n",
      "Name: count, Length: 124592, dtype: int64\n"
     ]
    }
   ],
   "source": [
    "# Calcular la cantidad de registros por cada tipo de 'Flight Status'\n",
    "Time = df2['Time'].value_counts()\n",
    "\n",
    "print(Time)"
   ]
  },
  {
   "cell_type": "code",
   "execution_count": 19,
   "id": "e363ba0b",
   "metadata": {},
   "outputs": [
    {
     "name": "stdout",
     "output_type": "stream",
     "text": [
      "Promedio Cantidad: 88.34961925093133\n"
     ]
    }
   ],
   "source": [
    "# Calcular el promedio de la columna 'Edad'\n",
    "PromQ = df2['Amount'].mean()\n",
    "\n",
    "print(\"Promedio Cantidad:\", PromQ)"
   ]
  },
  {
   "cell_type": "code",
   "execution_count": 20,
   "id": "f1fc6cdd",
   "metadata": {},
   "outputs": [
    {
     "name": "stdout",
     "output_type": "stream",
     "text": [
      "¿Hay al menos un valor igual a 0 en todo el DataFrame? True\n",
      "Cantidad de valores iguales a 0 en todo el DataFrame: 286142\n"
     ]
    }
   ],
   "source": [
    "# Buscar valores iguales a 0 en todo el Dataframe\n",
    "valores_igual_a_0 = df2 == 0\n",
    "# Verificar si hay al menos un valor igual a 0 en todo el DataFrame\n",
    "hay_0 = valores_igual_a_0.any().any()\n",
    "\n",
    "# Contar cuántos valores iguales a 0 hay en todo el DataFrame\n",
    "cantidad_de_0 = valores_igual_a_0.sum().sum()\n",
    "\n",
    "\n",
    "print(\"¿Hay al menos un valor igual a 0 en todo el DataFrame?\", hay_0)\n",
    "print(\"Cantidad de valores iguales a 0 en todo el DataFrame:\", cantidad_de_0)"
   ]
  },
  {
   "cell_type": "markdown",
   "id": "4c35b7d4",
   "metadata": {},
   "source": [
    "Con este dataset, lo que se puede analizar es conocer las transacciones fraudulentas con las tarjetas de creditopara para que que los clientes no se les cobre por articulos que no compraron.\n",
    "Este conjunto de datos son de transacciones de tarjetas de credito de septiembre de 2013 presenta transacciones realizadas por los titulares que ocurrieron en dos días, donde tenemos 492 fraudes de 284,807 transacciones. \n",
    "El conjunto de datos está muy desequilibrado, la clase positiva (fraudes) representa el 0,172% de todas las transacciones.\n",
    "Con las variables que contiene el dataset podremos realizar los siguientes análisis:\n",
    "* Analisis de las transforaciones de PCA (una técnica de selección de características concreta que utiliza una transformación ortogonal para convertir un conjunto de observaciones de variables, posiblemente correlacionadas, en un conjunto más reducido de variables que ya no guardan correlación y que se conocen como componentes principales)\n",
    "*  Características V1, V2, ... V28 son los componentes principales obtenidos con PCA, las únicas características que no se han transformado con PCA son 'Time' y 'Amount'. La función 'Tiempo' contiene los segundos transcurridos entre cada transacción y la primera transacción del conjunto de datos. La característica 'Cantidad' es la cantidad de transacción, esta característica se puede utilizar para el aprendizaje sensible a los costos dependiente de ejemplos. La característica 'Clase' es la variable de respuesta y toma el valor 1 en caso de fraude y 0 en caso contrario\n"
   ]
  },
  {
   "cell_type": "markdown",
   "id": "b1183a96-2378-4a5b-bb0b-efc8ef0e5d3e",
   "metadata": {},
   "source": [
    "#Dataset 3: Restrasos de Vuelos"
   ]
  },
  {
   "cell_type": "code",
   "execution_count": 21,
   "id": "a62cec5a-1e47-403c-bc8e-c14c579f6914",
   "metadata": {},
   "outputs": [],
   "source": [
    "#Carga el archivo con Pandas\n",
    "df3 = pd.read_csv(\"Airline Dataset.csv\")"
   ]
  },
  {
   "cell_type": "code",
   "execution_count": 22,
   "id": "16233565-700f-4b78-b074-5c056e08c6b6",
   "metadata": {},
   "outputs": [
    {
     "data": {
      "text/plain": [
       "(98619, 15)"
      ]
     },
     "execution_count": 22,
     "metadata": {},
     "output_type": "execute_result"
    }
   ],
   "source": [
    "#Obtener la propiedades del dataframe (filas, columnas)\n",
    "df3.shape"
   ]
  },
  {
   "cell_type": "code",
   "execution_count": 23,
   "id": "41418870",
   "metadata": {},
   "outputs": [
    {
     "name": "stdout",
     "output_type": "stream",
     "text": [
      "<class 'pandas.core.frame.DataFrame'>\n",
      "RangeIndex: 98619 entries, 0 to 98618\n",
      "Data columns (total 15 columns):\n",
      " #   Column                Non-Null Count  Dtype \n",
      "---  ------                --------------  ----- \n",
      " 0   Passenger ID          98619 non-null  int64 \n",
      " 1   First Name            98619 non-null  object\n",
      " 2   Last Name             98619 non-null  object\n",
      " 3   Gender                98619 non-null  object\n",
      " 4   Age                   98619 non-null  int64 \n",
      " 5   Nationality           98619 non-null  object\n",
      " 6   Airport Name          98619 non-null  object\n",
      " 7   Airport Country Code  98619 non-null  object\n",
      " 8   Country Name          98619 non-null  object\n",
      " 9   Airport Continent     98619 non-null  object\n",
      " 10  Continents            98619 non-null  object\n",
      " 11  Departure Date        98619 non-null  object\n",
      " 12  Arrival Airport       98619 non-null  object\n",
      " 13  Pilot Name            98619 non-null  object\n",
      " 14  Flight Status         98619 non-null  object\n",
      "dtypes: int64(2), object(13)\n",
      "memory usage: 11.3+ MB\n"
     ]
    }
   ],
   "source": [
    "#Obtener información sobre el DataFrame\n",
    "df3.info()"
   ]
  },
  {
   "cell_type": "code",
   "execution_count": 24,
   "id": "3a592062",
   "metadata": {},
   "outputs": [
    {
     "name": "stdout",
     "output_type": "stream",
     "text": [
      "Passenger ID             int64\n",
      "First Name              object\n",
      "Last Name               object\n",
      "Gender                  object\n",
      "Age                      int64\n",
      "Nationality             object\n",
      "Airport Name            object\n",
      "Airport Country Code    object\n",
      "Country Name            object\n",
      "Airport Continent       object\n",
      "Continents              object\n",
      "Departure Date          object\n",
      "Arrival Airport         object\n",
      "Pilot Name              object\n",
      "Flight Status           object\n",
      "dtype: object\n"
     ]
    }
   ],
   "source": [
    "#Tipos de datos del dataset\n",
    "tiposdedatos = df3.dtypes\n",
    "print (tiposdedatos)"
   ]
  },
  {
   "cell_type": "code",
   "execution_count": 25,
   "id": "4378eab0",
   "metadata": {},
   "outputs": [
    {
     "name": "stdout",
     "output_type": "stream",
     "text": [
      "Passenger ID                       10856\n",
      "First Name                        Edithe\n",
      "Last Name                         Leggis\n",
      "Gender                            Female\n",
      "Age                                   62\n",
      "Nationality                        Japan\n",
      "Airport Name            Coldfoot Airport\n",
      "Airport Country Code                  US\n",
      "Country Name               United States\n",
      "Airport Continent                    NAM\n",
      "Continents                 North America\n",
      "Departure Date                 6/28/2022\n",
      "Arrival Airport                      CXF\n",
      "Pilot Name                 Edithe Leggis\n",
      "Flight Status                    On Time\n",
      "Name: 0, dtype: object\n"
     ]
    }
   ],
   "source": [
    "# Acceder a la primera fila utilizando iloc\n",
    "primera_fila = df3.iloc[0]\n",
    "\n",
    "# Imprimir la primera fila\n",
    "print(primera_fila)"
   ]
  },
  {
   "cell_type": "code",
   "execution_count": 26,
   "id": "aa1cb9ce",
   "metadata": {},
   "outputs": [
    {
     "data": {
      "text/plain": [
       "Passenger ID            59871\n",
       "First Name               8437\n",
       "Last Name               41658\n",
       "Gender                      2\n",
       "Age                        90\n",
       "Nationality               240\n",
       "Airport Name             9062\n",
       "Airport Country Code      235\n",
       "Country Name              235\n",
       "Airport Continent           6\n",
       "Continents                  6\n",
       "Departure Date            364\n",
       "Arrival Airport          9024\n",
       "Pilot Name              98610\n",
       "Flight Status               3\n",
       "dtype: int64"
      ]
     },
     "execution_count": 26,
     "metadata": {},
     "output_type": "execute_result"
    }
   ],
   "source": [
    "# Contar el número de valores únicos en cada columna de un DataFrame\n",
    "unique_values = df3.nunique()\n",
    "unique_values"
   ]
  },
  {
   "cell_type": "code",
   "execution_count": 27,
   "id": "8daeab5c",
   "metadata": {},
   "outputs": [
    {
     "name": "stdout",
     "output_type": "stream",
     "text": [
      "Flight Status\n",
      "Cancelled    32942\n",
      "On Time      32846\n",
      "Delayed      32831\n",
      "Name: count, dtype: int64\n"
     ]
    }
   ],
   "source": [
    "# Calcular la cantidad de registros por cada tipo de 'Flight Status'\n",
    "FlightStatus = df3['Flight Status'].value_counts()\n",
    "\n",
    "print(FlightStatus)"
   ]
  },
  {
   "cell_type": "code",
   "execution_count": 28,
   "id": "f34b8262",
   "metadata": {},
   "outputs": [
    {
     "name": "stdout",
     "output_type": "stream",
     "text": [
      "Promedio Edad: 45.50402052342855\n"
     ]
    }
   ],
   "source": [
    "# Calcular el promedio de la columna 'Edad'\n",
    "PromAge = df3['Age'].mean()\n",
    "\n",
    "print(\"Promedio Edad:\", PromAge)"
   ]
  },
  {
   "cell_type": "code",
   "execution_count": 29,
   "id": "1e0983f9",
   "metadata": {},
   "outputs": [
    {
     "name": "stdout",
     "output_type": "stream",
     "text": [
      "¿Hay al menos un valor igual a 0 en todo el DataFrame? False\n",
      "Cantidad de valores iguales a 0 en todo el DataFrame: 0\n"
     ]
    }
   ],
   "source": [
    "# Buscar valores iguales a 0 en todo el DataFrame\n",
    "valores_igual_a_0 = df3 == 0\n",
    "# Verificar si hay al menos un valor igual a 0 en todo el DataFrame\n",
    "hay_0 = valores_igual_a_0.any().any()\n",
    "\n",
    "# Contar cuántos valores iguales a 0 hay en todo el DataFrame\n",
    "cantidad_de_0 = valores_igual_a_0.sum().sum()\n",
    "\n",
    "\n",
    "print(\"¿Hay al menos un valor igual a 0 en todo el DataFrame?\", hay_0)\n",
    "print(\"Cantidad de valores iguales a 0 en todo el DataFrame:\", cantidad_de_0)"
   ]
  },
  {
   "cell_type": "markdown",
   "id": "09bbfd43",
   "metadata": {},
   "source": [
    "Con estos datos, puedes realizar varios análisis, dependiendo de tus objetivos. Aquí tienes algunas ideas de análisis:\n",
    "\n",
    "Perfil de pasajeros: Resumen estadístico de la edad y género de los pasajeros. Análisis de nacionalidades de los pasajeros.\n",
    "\n",
    "Rutas de vuelo: Identificación de las rutas más comunes. Análisis de la relación entre el aeropuerto de salida y el aeropuerto de llegada.\n",
    "\n",
    "Estadísticas de vuelo: Análisis del estado de los vuelos, como la cantidad de vuelos programados, en curso y completados.\n",
    "\n",
    "Tendencias temporales:Análisis de las fechas de salida para identificar patrones estacionales o tendencias a lo largo del tiempo.\n",
    "\n",
    "Información geográfica: Análisis de la distribución de los aeropuertos de salida por continente.\n",
    "\n",
    "Pilotos:Estudio de los pilotos y la cantidad de vuelos realizados por cada uno.\n",
    "\n",
    "Combinación de datos: Combinación de datos geográficos para analizar la nacionalidad de los pasajeros en relación con los países y continentes de salida.\n",
    "\n",
    "Segmentación de pasajeros: Clasificación de pasajeros por grupos de edad para comprender mejor las preferencias de viaje de diferentes generaciones.\n",
    "\n",
    "Análisis de la duración del vuelo: Cálculo de la duración promedio de los vuelos y análisis de la variabilidad.\n"
   ]
  }
 ],
 "metadata": {
  "kernelspec": {
   "display_name": "Python 3 (ipykernel)",
   "language": "python",
   "name": "python3"
  },
  "language_info": {
   "codemirror_mode": {
    "name": "ipython",
    "version": 3
   },
   "file_extension": ".py",
   "mimetype": "text/x-python",
   "name": "python",
   "nbconvert_exporter": "python",
   "pygments_lexer": "ipython3",
   "version": "3.11.4"
  }
 },
 "nbformat": 4,
 "nbformat_minor": 5
}
