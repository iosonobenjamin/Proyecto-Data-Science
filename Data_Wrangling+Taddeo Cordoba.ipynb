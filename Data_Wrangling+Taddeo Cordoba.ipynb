{
 "cells": [
  {
   "cell_type": "markdown",
   "metadata": {},
   "source": [
    "**Data Wrangling - Proyecto Data Science - CoderHouse - Comision 46270**    \n",
    "Tutor: Juan Cruz Alric\n",
    "Profesor: Ximena Lisouski"
   ]
  },
  {
   "cell_type": "code",
   "execution_count": 1,
   "metadata": {},
   "outputs": [],
   "source": [
    "#Importar la bibliotecas\n",
    "import pandas as pd\n",
    "import matplotlib.pyplot as plt\n",
    "import seaborn as sns\n",
    "import calendar\n",
    "\n",
    "import warnings\n",
    "warnings.filterwarnings('ignore')"
   ]
  },
  {
   "cell_type": "code",
   "execution_count": 2,
   "metadata": {},
   "outputs": [],
   "source": [
    "#Leer el archivo csv\n",
    "df = pd.read_csv('Airline Dataset.csv')"
   ]
  },
  {
   "cell_type": "code",
   "execution_count": 3,
   "metadata": {},
   "outputs": [],
   "source": [
    "#Limpeiza de datos\n",
    "\n",
    "#Paso 1: Limpiar los datos\n",
    "#Eliminar las filas con valores nulos\n",
    "df = df.dropna()\n",
    "\n",
    "#Reemplazar los valores erróneos (por ejemplo, reemplazar 'N/A' por 'Desconocido')\n",
    "df = df.replace('N/A', 'Desconocido')"
   ]
  },
  {
   "cell_type": "code",
   "execution_count": 4,
   "metadata": {},
   "outputs": [
    {
     "name": "stdout",
     "output_type": "stream",
     "text": [
      "       Passenger ID First Name    Last Name  Gender  Age  \\\n",
      "51819         10000      Duffy   Stanbridge    Male   58   \n",
      "58138         10000       Anny      Kernell  Female   42   \n",
      "55898         10000     Mickie       Campey  Female   57   \n",
      "33272         10000       Myer        Lippi    Male   66   \n",
      "77791         10001       Essa      Colvine  Female   70   \n",
      "...             ...        ...          ...     ...  ...   \n",
      "62026         99997        Dru  Wholesworth  Female   61   \n",
      "5750          99999      Tiler     Whittuck    Male   58   \n",
      "93324         99999      Bliss     Slatford  Female    3   \n",
      "43021         99999    Heloise      Rehorek  Female   58   \n",
      "44752         99999    Rhiamon     Narducci  Female   51   \n",
      "\n",
      "                 Nationality                       Airport Name  \\\n",
      "51819                 Guinea                    Kalokol Airport   \n",
      "58138                 Sweden                   Hakodate Airport   \n",
      "55898  Palestinian Territory                      Colac Airport   \n",
      "33272                Morocco             Ngjiva Pereira Airport   \n",
      "77791                  China              Sehwan Sharif Airport   \n",
      "...                      ...                                ...   \n",
      "62026                  China                    Niigata Airport   \n",
      "5750                   China          Port Bailey Seaplane Base   \n",
      "93324                 France                    Challis Airport   \n",
      "43021                  China                     Loakan Airport   \n",
      "44752            Philippines  Mactan Cebu International Airport   \n",
      "\n",
      "      Airport Country Code   Country Name Airport Continent     Continents  \\\n",
      "51819                   KE          Kenya                AF         Africa   \n",
      "58138                   JP          Japan                AS           Asia   \n",
      "55898                   AU      Australia                OC        Oceania   \n",
      "33272                   AO         Angola                AF         Africa   \n",
      "77791                   PK       Pakistan                AS           Asia   \n",
      "...                    ...            ...               ...            ...   \n",
      "62026                   JP          Japan                AS           Asia   \n",
      "5750                    US  United States               NAM  North America   \n",
      "93324                   US  United States               NAM  North America   \n",
      "43021                   PH    Philippines                AS           Asia   \n",
      "44752                   PH    Philippines                AS           Asia   \n",
      "\n",
      "      Departure Date Arrival Airport        Pilot Name Flight Status  \n",
      "51819      6/30/2022             KLK  Duffy Stanbridge     Cancelled  \n",
      "58138     11/24/2022             HKD      Anny Kernell       Delayed  \n",
      "55898      9/23/2022             XCO     Mickie Campey       Delayed  \n",
      "33272      5/28/2022             VPE        Myer Lippi       On Time  \n",
      "77791      11/4/2022             SYW      Essa Colvine       Delayed  \n",
      "...              ...             ...               ...           ...  \n",
      "62026      9/20/2022             KIJ   Dru Wholesworth       On Time  \n",
      "5750       3/30/2022             KPY    Tiler Whittuck       Delayed  \n",
      "93324      7/12/2022             CHL    Bliss Slatford       On Time  \n",
      "43021       8/6/2022             BAG   Heloise Rehorek       Delayed  \n",
      "44752       7/8/2022             CEB  Rhiamon Narducci     Cancelled  \n",
      "\n",
      "[98619 rows x 15 columns]\n"
     ]
    }
   ],
   "source": [
    "#Paso 2: Ordenar los datos\n",
    "#Ordenar por una columna (por ejemplo, 'Edad')\n",
    "df = df.sort_values('Passenger ID')\n",
    "\n",
    "# Imprimir el DataFrame limpio y ordenado\n",
    "print(df)"
   ]
  },
  {
   "cell_type": "code",
   "execution_count": 5,
   "metadata": {},
   "outputs": [],
   "source": [
    "#Identificar duplicados en el conjunto de datos\n",
    "duplicates = df[df.duplicated()]"
   ]
  },
  {
   "cell_type": "code",
   "execution_count": 6,
   "metadata": {},
   "outputs": [],
   "source": [
    "#Eliminar duplicados del conjunto de datos\n",
    "df = df.drop_duplicates()"
   ]
  },
  {
   "cell_type": "code",
   "execution_count": 7,
   "metadata": {},
   "outputs": [
    {
     "name": "stdout",
     "output_type": "stream",
     "text": [
      "<class 'pandas.core.frame.DataFrame'>\n",
      "Index: 98619 entries, 51819 to 44752\n",
      "Data columns (total 15 columns):\n",
      " #   Column                Non-Null Count  Dtype \n",
      "---  ------                --------------  ----- \n",
      " 0   Passenger ID          98619 non-null  int64 \n",
      " 1   First Name            98619 non-null  object\n",
      " 2   Last Name             98619 non-null  object\n",
      " 3   Gender                98619 non-null  object\n",
      " 4   Age                   98619 non-null  int64 \n",
      " 5   Nationality           98619 non-null  object\n",
      " 6   Airport Name          98619 non-null  object\n",
      " 7   Airport Country Code  98619 non-null  object\n",
      " 8   Country Name          98619 non-null  object\n",
      " 9   Airport Continent     98619 non-null  object\n",
      " 10  Continents            98619 non-null  object\n",
      " 11  Departure Date        98619 non-null  object\n",
      " 12  Arrival Airport       98619 non-null  object\n",
      " 13  Pilot Name            98619 non-null  object\n",
      " 14  Flight Status         98619 non-null  object\n",
      "dtypes: int64(2), object(13)\n",
      "memory usage: 12.0+ MB\n",
      "None\n"
     ]
    }
   ],
   "source": [
    "#Ver información general sobre el DataFrame\n",
    "print(df.info())"
   ]
  },
  {
   "cell_type": "code",
   "execution_count": 8,
   "metadata": {},
   "outputs": [
    {
     "name": "stdout",
     "output_type": "stream",
     "text": [
      "       Passenger ID First Name   Last Name  Gender  Age  \\\n",
      "51819         10000      Duffy  Stanbridge    Male   58   \n",
      "58138         10000       Anny     Kernell  Female   42   \n",
      "55898         10000     Mickie      Campey  Female   57   \n",
      "33272         10000       Myer       Lippi    Male   66   \n",
      "77791         10001       Essa     Colvine  Female   70   \n",
      "28501         10001      Lanae   Bonallick  Female   12   \n",
      "62557         10002    Kirstyn    Steggals  Female   53   \n",
      "79187         10003     Norman     Huyhton    Male    8   \n",
      "4091          10003      Adela       Freyn  Female   43   \n",
      "90566         10004   Hercules       Roman    Male   31   \n",
      "\n",
      "                 Nationality                 Airport Name  \\\n",
      "51819                 Guinea              Kalokol Airport   \n",
      "58138                 Sweden             Hakodate Airport   \n",
      "55898  Palestinian Territory                Colac Airport   \n",
      "33272                Morocco       Ngjiva Pereira Airport   \n",
      "77791                  China        Sehwan Sharif Airport   \n",
      "28501                  Libya            Kawthoung Airport   \n",
      "62557                Vietnam                 Murray Field   \n",
      "79187                  China               Inyati Airport   \n",
      "4091                Honduras       Borrego Valley Airport   \n",
      "90566            Philippines  St George Municipal Airport   \n",
      "\n",
      "      Airport Country Code   Country Name Airport Continent     Continents  \\\n",
      "51819                   KE          Kenya                AF         Africa   \n",
      "58138                   JP          Japan                AS           Asia   \n",
      "55898                   AU      Australia                OC        Oceania   \n",
      "33272                   AO         Angola                AF         Africa   \n",
      "77791                   PK       Pakistan                AS           Asia   \n",
      "28501                   MM        Myanmar                AS           Asia   \n",
      "62557                   US  United States               NAM  North America   \n",
      "79187                   ZA   South Africa                AF         Africa   \n",
      "4091                    US  United States               NAM  North America   \n",
      "90566                   US  United States               NAM  North America   \n",
      "\n",
      "      Departure Date Arrival Airport        Pilot Name Flight Status  \n",
      "51819      6/30/2022             KLK  Duffy Stanbridge     Cancelled  \n",
      "58138     11/24/2022             HKD      Anny Kernell       Delayed  \n",
      "55898      9/23/2022             XCO     Mickie Campey       Delayed  \n",
      "33272      5/28/2022             VPE        Myer Lippi       On Time  \n",
      "77791      11/4/2022             SYW      Essa Colvine       Delayed  \n",
      "28501      8/17/2022             KAW   Lanae Bonallick       Delayed  \n",
      "62557      11/9/2022             EKA  Kirstyn Steggals       Delayed  \n",
      "79187      8/14/2022             INY    Norman Huyhton       On Time  \n",
      "4091       8/26/2022             BXS       Adela Freyn       On Time  \n",
      "90566      4/22/2022             SGU    Hercules Roman       On Time  \n"
     ]
    }
   ],
   "source": [
    "#Visualizar las primeras 10 filas del conjunto de datos\n",
    "print(df.head(10))"
   ]
  },
  {
   "cell_type": "code",
   "execution_count": 9,
   "metadata": {},
   "outputs": [
    {
     "name": "stdout",
     "output_type": "stream",
     "text": [
      "       Passenger ID           Age\n",
      "count  98619.000000  98619.000000\n",
      "mean   55168.689522     45.504021\n",
      "std    25985.443696     25.929849\n",
      "min    10000.000000      1.000000\n",
      "25%    32608.000000     23.000000\n",
      "50%    55338.000000     46.000000\n",
      "75%    77695.000000     68.000000\n",
      "max    99999.000000     90.000000\n"
     ]
    }
   ],
   "source": [
    "#Ver estadísticas descriptivas del DataFrame\n",
    "print(df.describe())"
   ]
  },
  {
   "cell_type": "code",
   "execution_count": 10,
   "metadata": {},
   "outputs": [
    {
     "name": "stdout",
     "output_type": "stream",
     "text": [
      "Passenger ID: 59871 valores únicos\n",
      "First Name: 8437 valores únicos\n",
      "Last Name: 41658 valores únicos\n",
      "Gender: 2 valores únicos\n",
      "Age: 90 valores únicos\n",
      "Nationality: 240 valores únicos\n",
      "Airport Name: 9062 valores únicos\n",
      "Airport Country Code: 235 valores únicos\n",
      "Country Name: 235 valores únicos\n",
      "Airport Continent: 6 valores únicos\n",
      "Continents: 6 valores únicos\n",
      "Departure Date: 364 valores únicos\n",
      "Arrival Airport: 9024 valores únicos\n",
      "Pilot Name: 98610 valores únicos\n",
      "Flight Status: 3 valores únicos\n"
     ]
    }
   ],
   "source": [
    "#Ver la cantidad de valores únicos en cada columna\n",
    "for column in df.columns:\n",
    "    print(f'{column}: {df[column].nunique()} valores únicos')"
   ]
  },
  {
   "cell_type": "markdown",
   "metadata": {},
   "source": [
    "**ANALISIS EXPLORATORIO**"
   ]
  },
  {
   "cell_type": "code",
   "execution_count": 11,
   "metadata": {},
   "outputs": [
    {
     "name": "stdout",
     "output_type": "stream",
     "text": [
      "Distribución de Edad:\n",
      "Age\n",
      "1     1075\n",
      "2     1058\n",
      "3     1095\n",
      "4     1110\n",
      "5     1082\n",
      "      ... \n",
      "86    1068\n",
      "87    1064\n",
      "88    1069\n",
      "89    1131\n",
      "90    1076\n",
      "Name: count, Length: 90, dtype: int64\n",
      "\n",
      "Distribución de Género:\n",
      "Gender\n",
      "Male      49598\n",
      "Female    49021\n",
      "Name: count, dtype: int64\n",
      "\n",
      "Distribución por Nacionalidad:\n",
      "Nationality\n",
      "China             18317\n",
      "Indonesia         10559\n",
      "Russia             5693\n",
      "Philippines        5239\n",
      "Brazil             3791\n",
      "                  ...  \n",
      "Saint Helena          2\n",
      "Cook Islands          2\n",
      "Norfolk Island        1\n",
      "Sint Maarten          1\n",
      "Jersey                1\n",
      "Name: count, Length: 240, dtype: int64\n"
     ]
    }
   ],
   "source": [
    "#Calcular la distribución de edad\n",
    "age_distribution = df['Age'].value_counts().sort_index()\n",
    "\n",
    "#Calcular la distribución de género\n",
    "gender_distribution = df['Gender'].value_counts()\n",
    "\n",
    "#Calcular la distribución por nacionalidad\n",
    "nationality_distribution = df['Nationality'].value_counts()\n",
    "\n",
    "#Imprimir las distribuciones\n",
    "print('Distribución de Edad:')\n",
    "print(age_distribution)\n",
    "print('\\nDistribución de Género:')\n",
    "print(gender_distribution)\n",
    "print('\\nDistribución por Nacionalidad:')\n",
    "print(nationality_distribution)"
   ]
  },
  {
   "cell_type": "code",
   "execution_count": 12,
   "metadata": {},
   "outputs": [
    {
     "name": "stdout",
     "output_type": "stream",
     "text": [
      "Aeropuertos más populares para salidas:\n",
      "Airport Name\n",
      "San Pedro Airport             43\n",
      "Santa Maria Airport           38\n",
      "Böblingen Flugfeld            36\n",
      "Santa Ana Airport             35\n",
      "San Fernando Airport          31\n",
      "                              ..\n",
      "Smolensk North Airport         2\n",
      "Juba International Airport     2\n",
      "J F Mitchell Airport           2\n",
      "Hiroshima Airport              1\n",
      "Falcon State Airport           1\n",
      "Name: count, Length: 9062, dtype: int64\n",
      "\n",
      "Aeropuertos más populares para llegadas:\n",
      "Arrival Airport\n",
      "0      873\n",
      "JNB     37\n",
      "PHM     36\n",
      "MPT     32\n",
      "YTY     27\n",
      "      ... \n",
      "BQU      2\n",
      "MGB      2\n",
      "IPI      2\n",
      "FAL      1\n",
      "HIJ      1\n",
      "Name: count, Length: 9024, dtype: int64\n"
     ]
    }
   ],
   "source": [
    "#Calcular los aeropuertos más populares para salidas\n",
    "departure_airports = df['Airport Name'].value_counts()\n",
    "\n",
    "#Calcular los aeropuertos más populares para llegadas\n",
    "arrival_airports = df['Arrival Airport'].value_counts()\n",
    "\n",
    "#Imprimir los aeropuertos más populares para salidas y llegadas\n",
    "print('Aeropuertos más populares para salidas:')\n",
    "print(departure_airports)\n",
    "print('\\nAeropuertos más populares para llegadas:')\n",
    "print(arrival_airports)"
   ]
  },
  {
   "cell_type": "code",
   "execution_count": 13,
   "metadata": {},
   "outputs": [
    {
     "name": "stdout",
     "output_type": "stream",
     "text": [
      "Aeropuertos más populares para salidas por continente:\n",
      "Airport Continent  Airport Name                          \n",
      "AF                 OR Tambo International Airport            23\n",
      "                   Bangassou Airport                         23\n",
      "                   Mampikony Airport                         23\n",
      "                   Xai-Xai Airport                           22\n",
      "                   Lumbala Airport                           21\n",
      "                                                             ..\n",
      "SAM                Ouro Fino Airport                          4\n",
      "                   Perai Tepuy Airport                        3\n",
      "                   Jorge Wilsterman International Airport     3\n",
      "                   Teniente Coronel Rafael Pabón Airport      3\n",
      "                   San Luis Airport                           2\n",
      "Name: count, Length: 9091, dtype: int64\n",
      "\n",
      "Aeropuertos más populares para salidas por país:\n",
      "Country Name  Airport Name                        \n",
      "Afghanistan   Zaranj Airport                          17\n",
      "              Sharana Airstrip                        16\n",
      "              Maimana Airport                         16\n",
      "              Bost Airport                            16\n",
      "              Camp Bastion Airport                    16\n",
      "                                                      ..\n",
      "Zimbabwe      Hwange National Park Airport            10\n",
      "              Hwange (Town) Airport                   10\n",
      "              Victoria Falls International Airport     9\n",
      "              Mutare Airport                           8\n",
      "              Mahenye Airport                          7\n",
      "Name: count, Length: 9107, dtype: int64\n"
     ]
    }
   ],
   "source": [
    "#Agrupar por continente y calcular los aeropuertos más populares para salidas\n",
    "continent_departure_airports = df.groupby('Airport Continent')['Airport Name'].value_counts()\n",
    "\n",
    "#Agrupar por país y calcular los aeropuertos más populares para salidas\n",
    "country_departure_airports = df.groupby('Country Name')['Airport Name'].value_counts()\n",
    "\n",
    "#Imprimir los resultados\n",
    "print('Aeropuertos más populares para salidas por continente:')\n",
    "print(continent_departure_airports)\n",
    "print('\\nAeropuertos más populares para salidas por país:')\n",
    "print(country_departure_airports)"
   ]
  },
  {
   "cell_type": "code",
   "execution_count": 14,
   "metadata": {},
   "outputs": [
    {
     "name": "stdout",
     "output_type": "stream",
     "text": [
      "Días de la semana más populares para viajar:\n",
      "Día de la semana\n",
      "Sunday       14289\n",
      "Thursday     14227\n",
      "Friday       14227\n",
      "Tuesday      14048\n",
      "Monday       14032\n",
      "Wednesday    13939\n",
      "Saturday     13857\n",
      "Name: count, dtype: int64\n",
      "\n",
      "Meses más populares para viajar:\n",
      "Mes\n",
      "August       8544\n",
      "May          8496\n",
      "July         8451\n",
      "March        8431\n",
      "January      8416\n",
      "October      8415\n",
      "September    8149\n",
      "June         8128\n",
      "November     8053\n",
      "April        7959\n",
      "December     7924\n",
      "February     7653\n",
      "Name: count, dtype: int64\n"
     ]
    }
   ],
   "source": [
    "#Convertir la columna 'Fecha de salida' a datetime\n",
    "df['Departure Date'] = pd.to_datetime(df['Departure Date'])\n",
    "\n",
    "#Crear nuevas columnas para el día de la semana y el mes\n",
    "df['Día de la semana'] = df['Departure Date'].dt.day_name()\n",
    "df['Mes'] = df['Departure Date'].dt.month_name()\n",
    "\n",
    "#Calcular los días de la semana más populares para viajar\n",
    "dias_populares = df['Día de la semana'].value_counts()\n",
    "\n",
    "#Calcular los meses más populares para viajar\n",
    "meses_populares = df['Mes'].value_counts()\n",
    "\n",
    "#Imprimir los resultados\n",
    "print('Días de la semana más populares para viajar:')\n",
    "print(dias_populares)\n",
    "print('\\nMeses más populares para viajar:')\n",
    "print(meses_populares)\n"
   ]
  },
  {
   "cell_type": "code",
   "execution_count": 15,
   "metadata": {},
   "outputs": [
    {
     "data": {
      "image/png": "[encoded data removed]",
      "text/plain": [
       "<Figure size 1200x600 with 2 Axes>"
      ]
     },
     "metadata": {},
     "output_type": "display_data"
    }
   ],
   "source": [
    "#Convertir la columna 'Fecha de salida' a datetime\n",
    "df['Departure Date'] = pd.to_datetime(df['Departure Date'])\n",
    "\n",
    "#Crear nuevas columnas para el día de la semana y el mes\n",
    "df['Día de la semana'] = df['Departure Date'].dt.dayofweek\n",
    "df['Mes'] = df['Departure Date'].dt.month\n",
    "\n",
    "#Calcular los días de la semana más populares para viajar\n",
    "dias_populares = df['Día de la semana'].value_counts().sort_index()\n",
    "dias_populares.index = [calendar.day_name[i] for i in range(7)]  # Reemplazar los números por nombres de días\n",
    "\n",
    "#Calcular los meses más populares para viajar\n",
    "meses_populares = df['Mes'].value_counts().sort_index()\n",
    "meses_populares.index = [calendar.month_name[i] for i in range(1, 13)]  # Reemplazar los números por nombres de meses\n",
    "\n",
    "#Definir una lista de colores\n",
    "colores = ['red', 'orange', 'yellow', 'green', 'blue', 'indigo', 'violet']\n",
    "\n",
    "#Asegurarse de que la lista de colores tenga la misma longitud que los datos\n",
    "colores = colores * (len(meses_populares) // len(colores)) + colores[:len(meses_populares) % len(colores)]\n",
    "\n",
    "#Graficar los resultados\n",
    "plt.figure(figsize=(12, 6))\n",
    "\n",
    "#Gráfico lineal para los días de la semana\n",
    "plt.subplot(1, 2, 1)\n",
    "dias_populares.plot(kind='line', title='Días de la semana más populares para viajar')\n",
    "\n",
    "#Gráfico de barras para los meses con colores personalizados\n",
    "plt.subplot(1, 2, 2)\n",
    "meses_populares.plot(kind='bar', color=colores, title='Meses más populares para viajar')\n",
    "\n",
    "plt.tight_layout()\n",
    "plt.show()\n",
    "\n"
   ]
  }
 ],
 "metadata": {
  "kernelspec": {
   "display_name": "Python 3",
   "language": "python",
   "name": "python3"
  },
  "language_info": {
   "codemirror_mode": {
    "name": "ipython",
    "version": 3
   },
   "file_extension": ".py",
   "mimetype": "text/x-python",
   "name": "python",
   "nbconvert_exporter": "python",
   "pygments_lexer": "ipython3",
   "version": "3.11.4"
  }
 },
 "nbformat": 4,
 "nbformat_minor": 2
}
